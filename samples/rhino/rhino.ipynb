{
 "cells": [
  {
   "cell_type": "code",
   "execution_count": 2,
   "metadata": {},
   "outputs": [],
   "source": [
    "String userHomeDir = System.getProperty(\"user.home\");\n",
    "String localRespoUrl = \"file://\" + userHomeDir + \"/.m2/repository/\";\n",
    "String rhinoVersion = \"1.7.15\""
   ]
  },
  {
   "cell_type": "code",
   "execution_count": 3,
   "metadata": {},
   "outputs": [
    {
     "name": "stdout",
     "output_type": "stream",
     "text": [
      "\u001b[0mRepository \u001b[1m\u001b[32mlocal\u001b[0m url: \u001b[1m\u001b[32mfile:///Users/bsorrentino/.m2/repository/\u001b[0m added.\n",
      "\u001b[0mRepositories count: 5\n",
      "\u001b[0mname: \u001b[1m\u001b[32mcentral \u001b[0murl: \u001b[1m\u001b[32mhttps://repo.maven.apache.org/maven2/ \u001b[0mrelease:\u001b[32mtrue \u001b[0mupdate:\u001b[32mnever \u001b[0msnapshot:\u001b[32mfalse \u001b[0mupdate:\u001b[32mnever \n",
      "\u001b[0m\u001b[0mname: \u001b[1m\u001b[32mjcenter \u001b[0murl: \u001b[1m\u001b[32mhttps://jcenter.bintray.com/ \u001b[0mrelease:\u001b[32mtrue \u001b[0mupdate:\u001b[32mnever \u001b[0msnapshot:\u001b[32mfalse \u001b[0mupdate:\u001b[32mnever \n",
      "\u001b[0m\u001b[0mname: \u001b[1m\u001b[32mjboss \u001b[0murl: \u001b[1m\u001b[32mhttps://repository.jboss.org/nexus/content/repositories/releases/ \u001b[0mrelease:\u001b[32mtrue \u001b[0mupdate:\u001b[32mnever \u001b[0msnapshot:\u001b[32mfalse \u001b[0mupdate:\u001b[32mnever \n",
      "\u001b[0m\u001b[0mname: \u001b[1m\u001b[32matlassian \u001b[0murl: \u001b[1m\u001b[32mhttps://packages.atlassian.com/maven/public \u001b[0mrelease:\u001b[32mtrue \u001b[0mupdate:\u001b[32mnever \u001b[0msnapshot:\u001b[32mfalse \u001b[0mupdate:\u001b[32mnever \n",
      "\u001b[0m\u001b[0mname: \u001b[1m\u001b[32mlocal \u001b[0murl: \u001b[1m\u001b[32mfile:///Users/bsorrentino/.m2/repository/ \u001b[0mrelease:\u001b[32mtrue \u001b[0mupdate:\u001b[32mnever \u001b[0msnapshot:\u001b[32mtrue \u001b[0mupdate:\u001b[32malways \n",
      "\u001b[0m"
     ]
    }
   ],
   "source": [
    "%dependency /add-repo local \\{localRespoUrl} release|never snapshot|always\n",
    "%dependency /list-repos\n"
   ]
  },
  {
   "cell_type": "code",
   "execution_count": 4,
   "metadata": {},
   "outputs": [
    {
     "name": "stdout",
     "output_type": "stream",
     "text": [
      "Adding dependency \u001b[0m\u001b[1m\u001b[32morg.mozilla:rhino:1.7.15\n",
      "\u001b[0mSolving dependencies\n",
      "Resolved artifacts count: 1\n",
      "Add to classpath: \u001b[0m\u001b[32m/Users/bsorrentino/Library/Jupyter/kernels/rapaio-jupyter-kernel/mima_cache/org/mozilla/rhino/1.7.15/rhino-1.7.15.jar\u001b[0m\n",
      "\u001b[0m"
     ]
    }
   ],
   "source": [
    "%dependency /add  org.mozilla:rhino:\\{rhinoVersion}\n",
    "%dependency /resolve"
   ]
  },
  {
   "cell_type": "code",
   "execution_count": 5,
   "metadata": {},
   "outputs": [],
   "source": [
    "import org.mozilla.javascript.Context;\n",
    "import org.mozilla.javascript.ContextAction;\n",
    "import org.mozilla.javascript.ContextFactory;\n",
    "import org.mozilla.javascript.ErrorReporter;\n",
    "import org.mozilla.javascript.Function;\n",
    "import org.mozilla.javascript.ImporterTopLevel;\n",
    "import org.mozilla.javascript.NativeArray;\n",
    "import org.mozilla.javascript.NativeConsole;\n",
    "import org.mozilla.javascript.RhinoException;\n",
    "import org.mozilla.javascript.Script;\n",
    "import org.mozilla.javascript.ScriptRuntime;\n",
    "import org.mozilla.javascript.Scriptable;\n",
    "import org.mozilla.javascript.ScriptableObject;\n",
    "import org.mozilla.javascript.Synchronizer;\n",
    "import org.mozilla.javascript.Undefined;\n",
    "import org.mozilla.javascript.Wrapper;\n",
    "import org.mozilla.javascript.commonjs.module.Require;\n",
    "import org.mozilla.javascript.commonjs.module.RequireBuilder;\n",
    "import org.mozilla.javascript.commonjs.module.provider.SoftCachingModuleScriptProvider;\n",
    "import org.mozilla.javascript.commonjs.module.provider.UrlModuleSourceProvider;\n",
    "import org.mozilla.javascript.serialize.ScriptableInputStream;\n",
    "import org.mozilla.javascript.serialize.ScriptableOutputStream;\n",
    "import org.mozilla.javascript.tools.ToolErrorReporter;\n",
    "\n",
    "public class CommonJsImporter extends ImporterTopLevel {\n",
    "\n",
    "    public CommonJsImporter(Context ctx, boolean sealed) {\n",
    "        super(ctx, sealed);\n",
    "    }\n",
    "\n",
    "    /**\n",
    "     * fix problem for Typescript generation\n",
    "     * Object.defineProperty(exports, \"__esModule\", { value: true });\n",
    "     * @param object empty javascript object\n",
    "     */\n",
    "    public void defineES6Exports(Scriptable object) {\n",
    "        ScriptableObject.putProperty(this, \"exports\", object);\n",
    "    }\n",
    "\n",
    "    public void installRequire(Context ctx, List<URI> uris, boolean sandboxed) {\n",
    "\n",
    "\n",
    "        RequireBuilder rb = new RequireBuilder();\n",
    "        rb.setSandboxed(sandboxed);\n",
    "        rb.setModuleScriptProvider(\n",
    "                new SoftCachingModuleScriptProvider(new UrlModuleSourceProvider(uris, null)));\n",
    "        Require require = rb.createRequire(ctx, this);\n",
    "\n",
    "        require.install(this);\n",
    "    }\n",
    "\n",
    "\n",
    "}\n"
   ]
  },
  {
   "cell_type": "code",
   "execution_count": 6,
   "metadata": {},
   "outputs": [
    {
     "data": {
      "text/plain": [
       "/Users/bsorrentino/WORKSPACES/GITHUB.me/JAVA/java2typescript/samples/rhino"
      ]
     },
     "execution_count": 6,
     "metadata": {},
     "output_type": "execute_result"
    }
   ],
   "source": [
    "System.getProperty(\"user.dir\");"
   ]
  },
  {
   "cell_type": "code",
   "execution_count": 14,
   "metadata": {},
   "outputs": [],
   "source": [
    "import org.mozilla.javascript.Context;\n",
    "import org.mozilla.javascript.EvaluatorException;\n",
    "import org.mozilla.javascript.Function;\n",
    "import org.mozilla.javascript.JavaScriptException;\n",
    "import org.mozilla.javascript.Scriptable;\n",
    "import org.mozilla.javascript.ScriptableObject;\n",
    "import org.mozilla.javascript.WrappedException;\n",
    "import org.mozilla.javascript.ContextFactory;\n",
    "import java.nio.file.Paths;\n",
    "\n",
    "Object runScript( String js  ) throws Exception {   \n",
    "    \n",
    "    var factoryCtx = new ContextFactory();\n",
    "\n",
    "\n",
    "    var cwd = Paths.get( System.getProperty(\"user.dir\"), \"src\", \"test\", \"resources\" );\n",
    "    var modules = List.of( cwd.toUri() );\n",
    "\n",
    "    return factoryCtx.call( ctx -> {\n",
    "        ctx.setLanguageVersion(Context.VERSION_ES6);\n",
    "        \n",
    "        CommonJsImporter topLevel = new CommonJsImporter(ctx, false);\n",
    "\n",
    "        ctx.initStandardObjects(topLevel, false);\n",
    "        topLevel.installRequire(ctx, modules, true);\n",
    "\n",
    "        Scriptable newScope = ctx.newObject(topLevel);\n",
    "        newScope.setPrototype(topLevel);\n",
    "\n",
    "        return ctx.evaluateString(newScope, js, \"<cmd>\", 1, null);\n",
    "    });\n",
    "\n",
    "}\n"
   ]
  },
  {
   "cell_type": "code",
   "execution_count": 16,
   "metadata": {},
   "outputs": [
    {
     "name": "stdout",
     "output_type": "stream",
     "text": [
      "The CommonJS require function works!\n"
     ]
    }
   ],
   "source": [
    "var js = \"\"\"\n",
    "        const test = require('test-cjs');\n",
    "        test();\n",
    "        \"\"\";\n",
    "var result = runScript( js );"
   ]
  }
 ],
 "metadata": {
  "kernelspec": {
   "display_name": "Java (rjk 2.1.0)",
   "language": "java",
   "name": "rapaio-jupyter-kernel"
  },
  "language_info": {
   "codemirror_mode": "java",
   "file_extension": ".jshell",
   "mimetype": "text/x-java-source",
   "name": "java",
   "nbconvert_exporter": "script",
   "pygments_lexer": "java",
   "version": "22.0.2+9-70"
  }
 },
 "nbformat": 4,
 "nbformat_minor": 2
}
